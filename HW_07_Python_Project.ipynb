{
 "cells": [
  {
   "cell_type": "markdown",
   "metadata": {},
   "source": [
    "# Computer Homework 7: Simulating trajectories of charged particles in electric and magnetic fields\n",
    "\n",
    "## \"Preflight\" (8/10 points)\n",
    "\n",
    "#### Due at the beginning of class on Friday, Feb. 28 to receive the first 8/40 points on this assignment (you need to show you made a solid effort to work through the code, even if it is not fully functional - pseudo-code or comments describing what should go in there count).  The entire completed notebook is due by midnight on Wednesday March 11.  The next preflight of HW 8 will be posted on the evening of Tuesday March 10.\n",
    "\n",
    "In this excercise we will simulate how particles move in electric and magnetic fields. The charged particles will move in response to a force, which causes an acceleration, which in turn changes the velocity and position.  The motion will depend on the initial position and velocity. "
   ]
  },
  {
   "cell_type": "markdown",
   "metadata": {},
   "source": [
    "### Import the usual libraries"
   ]
  },
  {
   "cell_type": "code",
   "execution_count": null,
   "metadata": {},
   "outputs": [],
   "source": [
    "import numpy as np                         # numpy is a library that includes most of the numerical function you will need\n",
    "import matplotlib.pyplot as plt            # this is the library we use to plot   \n",
    "from mpl_toolkits.mplot3d import Axes3D    # this is a library to plot in 3d"
   ]
  },
  {
   "cell_type": "markdown",
   "metadata": {},
   "source": [
    "In the last class, you created functions to calculate the force due to an electric field on a charge q, and the force due to a magnetic field on a charge q moving at velocity v:"
   ]
  },
  {
   "cell_type": "code",
   "execution_count": null,
   "metadata": {},
   "outputs": [],
   "source": [
    "def calc_force_on_charge_by_efield(electric_field, q = 1) :\n",
    "    ''' We have one argument, and a key-word argument. The electric_field should look like a vector, \n",
    "    i.e. a numpy array with three elements. q has a DEFAULT value of 1 Coulomb'''\n",
    "    force = q*electric_field\n",
    "    return force\n",
    "\n",
    "def calc_force_on_charge_by_bfield(magnetic_field, charge_velocity, q = 1) :\n",
    "    ''' Fill out description of appropriate arguments and/or keyword arguments.  magnetic field and velocity also\n",
    "    need to be vectors, i.e. numpy arrays with three elements.  You will need to use np.cross\n",
    "    from above. '''\n",
    "    force = q*np.cross(charge_velocity, magnetic_field)\n",
    "    return force"
   ]
  },
  {
   "cell_type": "markdown",
   "metadata": {},
   "source": [
    "**Use both functions above in a new function**, acceleration_of_charge_in_ebfields, to calculate the acceleration on a charged particle in the presence of both an electric and magnetic field.  You may have done this in the \"bonus\" step of the last lab if you had extra time."
   ]
  },
  {
   "cell_type": "code",
   "execution_count": null,
   "metadata": {},
   "outputs": [],
   "source": [
    "def calc_acceleration_of_charge_in_ebfields(electric_field, magnetic_field, charge_velocity, q, m) :\n",
    "    ''' Calculate the acceleration of a charge in both electric and magnetic fields.  electric_field, magnetic_field,\n",
    "    charge_velocity should all be vector-looking, i.e. numpy arrays with three elements'''\n",
    "    \n",
    "    acceleration = q*(electric_field+np.cross(charge_velocity,\n",
    "                                              magnetic_field))/m\n",
    "    acceleration = (calc_force_on_charge_by_efield(electric_field,q) + \\\n",
    "                    calc_force_on_charge_by_bfield(magnetic_field, charge_velocity, q))/m\n",
    "    return acceleration"
   ]
  },
  {
   "cell_type": "code",
   "execution_count": null,
   "metadata": {},
   "outputs": [],
   "source": [
    "calc_acceleration_of_charge_in_ebfields(np.array([1,0,0]), np.array([1,0,0]), np.array([1,0,0]),\n",
    "                                       1, 1)"
   ]
  },
  {
   "cell_type": "markdown",
   "metadata": {},
   "source": [
    "Note, the `calc_force_on_charge_by_?` functions above require a vector for the electric or magnetic field.  These, however, may vary depending on the charged particle's position.  For example, in the electric field due to a point charge, the field has a $1/r^2$ dependence.  \n",
    "\n",
    "Below, we write example functions to return the electric and magnetic fields that are parallel to the x-axis.  In this simplified case, the electric and magnetic fields are independent of the charged particle position.  We will later write an example where this is *not* the case"
   ]
  },
  {
   "cell_type": "code",
   "execution_count": null,
   "metadata": {},
   "outputs": [],
   "source": [
    "# Functions to return e-field and b-field at a point.\n",
    "#  Generalizes for non-constant e and b-fields --> Outputs the input to the calc_force_on_charge_by_????\n",
    "\n",
    "def constant_electric_x_field(charge_position) :\n",
    "    ''' This is a test where $\\vec{E} = [1, 0, 0]$'''\n",
    "    return np.array([1,0,0])\n",
    "\n",
    "def constant_magnetic_x_field(charge_position) :\n",
    "    ''' This is a test where $\\vec{B} = [1, 0, 0]$'''\n",
    "    return np.array([1,0,0])"
   ]
  },
  {
   "cell_type": "markdown",
   "metadata": {},
   "source": [
    "Here, we test that the electric field is constant regardless of a charge's position, and also print the force due to that electric field.  This is a bit of a trivial test because the constant electric field is constant (independent of position) by construction."
   ]
  },
  {
   "cell_type": "code",
   "execution_count": null,
   "metadata": {},
   "outputs": [],
   "source": [
    "def test_constant_electric_x_field() :\n",
    "    ''' Note, we do not necessarily need arguments for a function to work! '''\n",
    "\n",
    "    #  Choose two particle positions to compare\n",
    "    charge_position_1 = np.array([0,0,0])\n",
    "    charge_position_2 = np.array([0,0,1])\n",
    "\n",
    "    #  Test if the electric field is indeed constant at both positions\n",
    "    efield_at_pos1 = constant_electric_x_field(charge_position_1) \n",
    "    efield_at_pos2 = constant_electric_x_field(charge_position_2)\n",
    "\n",
    "    #  Check force on an electron at each position\n",
    "    print('Force due to constant electric field at position 1: ')\n",
    "    print(calc_force_on_charge_by_efield(efield_at_pos1))\n",
    "    \n",
    "    print(' Is the e-field the same at both positions? If yes, no error message will appear.') \n",
    "    # This assert statement is the crux of the test.  If the boolean fails (False), the test will fail.\n",
    "    np.testing.assert_array_equal(efield_at_pos1, efield_at_pos2)  \n"
   ]
  },
  {
   "cell_type": "code",
   "execution_count": null,
   "metadata": {},
   "outputs": [],
   "source": [
    "test_constant_electric_x_field()"
   ]
  },
  {
   "cell_type": "markdown",
   "metadata": {},
   "source": [
    "In general, the electric and/or magnetic fields may depend on the position of the particle.\n",
    "\n",
    "**Write your own function** in the cell below that returns a magnetic field that increases linearly with the z position of a charged particle,\n",
    "\\begin{eqnarray}\n",
    "\\vec{B} = B_0z\\hat{z},\n",
    "\\end{eqnarray}\n",
    "where $B_0=0.1$T/m (so $B_0z$ has units of T, as a magnetic field should)."
   ]
  },
  {
   "cell_type": "code",
   "execution_count": null,
   "metadata": {},
   "outputs": [],
   "source": [
    "def linearly_increasing_bfield(charge_position) :\n",
    "    '''This outputs a magnetic field that happens to linearly increase with z.  Note, this does not obey Maxwell's \n",
    "    equations, but starts what you will need to define for the last part of the assignment.'''\n",
    "    z = charge_position[2]\n",
    "    bfield = np.array([0,0,0.1*z])\n",
    "    return bfield"
   ]
  },
  {
   "cell_type": "markdown",
   "metadata": {},
   "source": [
    "**Bonus**:  Write your own test_linearly_increasing_bfield function that asserts that the B field at [0,0,1] is smaller than the B field at [0,0,2].  Hint:  You could try using `np.testing.assert_array_less` (https://docs.scipy.org/doc/numpy-1.10.0/reference/generated/numpy.testing.assert_array_less.html)"
   ]
  },
  {
   "cell_type": "code",
   "execution_count": null,
   "metadata": {},
   "outputs": [],
   "source": [
    "#  Bonus function here\n",
    "def test_linearly_increasing_bfield() :\n",
    "    '''Tests that B-field at [0,0,1] is smaller than the B field at [0,0,2]'''\n",
    "    #  Your code here (You'll need to just compare the z value because numpy function is element-by-element)\n",
    "    pos1 = np.array([0,0,1])\n",
    "    pos2 = np.array([0,0,2])\n",
    "    \n",
    "    bfield1 = linearly_increasing_bfield(pos1)\n",
    "    bfield2 = linearly_increasing_bfield(pos2)\n",
    "    \n",
    "    np.testing.assert_array_less(bfield1[2],bfield2[2])\n",
    "    \n",
    "    return"
   ]
  },
  {
   "cell_type": "code",
   "execution_count": null,
   "metadata": {},
   "outputs": [],
   "source": [
    "test_linearly_increasing_bfield()"
   ]
  },
  {
   "cell_type": "code",
   "execution_count": null,
   "metadata": {},
   "outputs": [],
   "source": [
    "#  Note, if a test to assert a statement fails, an AssertionError is thrown and stops the code (see below)\n",
    "np.testing.assert_array_less(np.array([1,0,0]),np.array([0,0,0]))"
   ]
  },
  {
   "cell_type": "markdown",
   "metadata": {},
   "source": [
    "#### Analogous to your computer assignments on circuits, we have a change in position and a change in velocity, \n",
    "\\begin{eqnarray}\n",
    "\\frac{d\\vec{x}}{dt}&=&\\vec{v}\\\\\n",
    "\\frac{d\\vec{v}}{dt}&=&\\vec{a}\n",
    "\\end{eqnarray}\n",
    "So, if we were to use Euler's method to update the next ith step, is based on the i-1th step as:\n",
    "\\begin{eqnarray}\n",
    "\\vec{x}_i&+=&\\frac{d\\vec{x}_{i-1}}{dt}\\times dt\\\\\n",
    "&=&\\vec{v}_{i-1}\\times dt\\\\\n",
    "\\vec{v}_i&+=&\\frac{d\\vec{v}_{i-1}}{dt}\\times dt\\\\\n",
    "&=&\\vec{a}_{i-1}\\times dt\n",
    "\\end{eqnarray}"
   ]
  },
  {
   "cell_type": "code",
   "execution_count": null,
   "metadata": {},
   "outputs": [],
   "source": [
    "for inum in np.arange(5) :\n",
    "    print(inum)\n",
    "    inum += 1\n",
    "    print(inum)\n",
    "    \n",
    "#  Note, += is the same as i = i+??"
   ]
  },
  {
   "cell_type": "markdown",
   "metadata": {},
   "source": [
    "The vector $\\vec{v}_{i-1}$ is the rate of change of $\\vec{x}_{i-1}$ to get the updated $\\vec{x}_i$.  Similarly, the vector $\\vec{a}_{i-1}$ is the rate of change of $\\vec{v}_{i-1}$ to get the updated $\\vec{v}_i$.\n",
    "\n",
    "**Write a function** called get_updated_value that takes in a current_value, rate_of_change and dt, and returns the updated value.  This should work for getting the updated position and the updated velocity."
   ]
  },
  {
   "cell_type": "code",
   "execution_count": null,
   "metadata": {},
   "outputs": [],
   "source": [
    "def get_updated_value(current_value, rate_of_change, dt) :\n",
    "    updated_value = current_value+rate_of_change*dt\n",
    "    return updated_value"
   ]
  },
  {
   "cell_type": "markdown",
   "metadata": {},
   "source": [
    "For Euler's method, the `rate_of_change` is simply the particle's **current velocity** and acceleration due to the electric and magnetic fields due to the particle's **current position and velocity**.  In class, we will discuss an alternative method to calculate the rate of change called the Runge-Kutta method.  "
   ]
  },
  {
   "cell_type": "code",
   "execution_count": null,
   "metadata": {},
   "outputs": [],
   "source": [
    "def get_rates_of_change_euler(particle_position, particle_velocity, electric_field_function,\n",
    "                                        magnetic_field_function, q, m, dt) :\n",
    "    '''When using Euler's method, the rates of change are simply the particle_velocity, and the acceleration\n",
    "    due to the electric and magnetic field at that particle_position.  While this does not depend on dt, \n",
    "    we will keep it as an argument for parallels with the Runge-Kutta method'''\n",
    "    \n",
    "    electric_field_at_position = electric_field_function(particle_position)\n",
    "    magnetic_field_at_position = magnetic_field_function(particle_position)\n",
    "    \n",
    "    particle_acceleration = calc_acceleration_of_charge_in_ebfields(electric_field_at_position, \n",
    "                                                                    magnetic_field_at_position, \n",
    "                                                                        particle_velocity, q, m)\n",
    "    return particle_velocity, particle_acceleration"
   ]
  },
  {
   "cell_type": "markdown",
   "metadata": {},
   "source": [
    "#### Now that you can get the position and the velocity for any given timestep, let's set up a trajectory calculation!\n",
    "\n",
    "To calculate the trajectory, we will need \n",
    "- Initial conditions, \n",
    "- Empty position and perhaps velocity arrays to populate (we will want to return these)\n",
    "- Timesteps at which we will calculate the trajectory segments\n",
    "- A loop to iterate through to use Euler's method to calculate values at the next timestep.\n",
    "\n",
    "**Our goals at the end of this pre-flight** is to have a reasonable `calc_trajectory_in_fields` function for a non-time evolving $\\vec{E}$ and $\\vec{B}$ field, and to test this with *just* an electric field parallel to the x-axis, and *just* a magnetic field parallel to the x-axis. "
   ]
  },
  {
   "cell_type": "markdown",
   "metadata": {},
   "source": [
    "First, **define your initial conditions** and reasonable timestepping to test the function.  For the test, let us say our initial position is at the origin, $\\vec{x}_0=[0,0,0]$, and our test particle is going parallel to the y-axis, $\\vec{v}_0=[0,1,0]$.  Let us also assume we iterate from $t=0$s to $t=50$s, with 10,000 timesteps.  You'll need to calculate the correpsonding $dt$ to **define your timesteps array**."
   ]
  },
  {
   "cell_type": "code",
   "execution_count": null,
   "metadata": {},
   "outputs": [],
   "source": [
    "# Your code here:\n",
    "initial_position = np.array([0,0,0])\n",
    "initial_velocity = np.array([0,1,0])\n",
    "timesteps = np.arange(0,50,0.005)\n",
    "timesteps.shape\n",
    "\n",
    "#  This is what we have generically done in the past, but for placeholders of current (or charge),\n",
    "#    we used np.zeros(timesteps.shape), where timesteps.shape is a tuple.  Below, (timesteps.size,3) is the \n",
    "#    tuple that describes the shape we want to input to position_evolution.  The function below generalizes this\n",
    "#     so we can use the same thing for both position_evolution and velocity_evolution.\n",
    "position_evolution = np.zeros((timesteps.size,3))\n",
    "position_evolution.shape"
   ]
  },
  {
   "cell_type": "markdown",
   "metadata": {},
   "source": [
    "Now, **write a function** that outputs the place-holder arrays for either position_evolution and velocity_evolution.  These will be populated in each loop iteration, so we may as well fill them with zeros.  Note, you will want an x, y, z and a vx, vy, vz for each timestep in your timesteps array.  So, your shape of your position_evolution array will be the same as your velocity_evolution array.  \n",
    "*Hint*:  See the array slicing section of the hw7_python_practice from the last class to see what this might look like."
   ]
  },
  {
   "cell_type": "code",
   "execution_count": null,
   "metadata": {},
   "outputs": [],
   "source": [
    "#  Your code here:\n",
    "def create_place_holder_array(timesteps) :\n",
    "    ''' Returns a placeholder array '''\n",
    "\n",
    "    return np.zeros((timesteps.size,3))"
   ]
  },
  {
   "cell_type": "markdown",
   "metadata": {},
   "source": [
    "We now have all of the ingredients for our trajectory calculation.  \n",
    "\n",
    "Assuming you did all of the above steps, the following `calc_trajectory_in_fields` should work.  You'll notice that there are **functions as arguments**!  This allows you to have more generalized code to calculate the trajectory in fields.  One of the input arguments that is a function is get_updated_value_function.  For now, we will use `get_updated_value_euler`.  There is a more accurate way to update values, which we will discuss in class"
   ]
  },
  {
   "cell_type": "code",
   "execution_count": null,
   "metadata": {},
   "outputs": [],
   "source": [
    "def calc_trajectory_in_fields(electric_field_function, magnetic_field_function, get_rates_of_change_function, \n",
    "                              timesteps, particle_position, particle_velocity, q = 1, m=1) :\n",
    "    '''This function takes in functions that output the electric (and magnetic) fields functions with an argument of particle\n",
    "    position.  This also requires as an argument the timesteps you wish to iterate over, and the \n",
    "    initial conditions, of the particle_position and particle_velocity it starts out with.  The charge and mass are optional\n",
    "    (key word arguments).'''\n",
    "    \n",
    "    # Create place holder arrays\n",
    "    position_evolution = create_place_holder_array(timesteps)\n",
    "    velocity_evolution = create_place_holder_array(timesteps)\n",
    "    \n",
    "    dt = timesteps[1]  # timesteps looks like np.array([0, dt, 2*dt, 3*dt, ...., (total_timesteps-1)*dt])\n",
    "    for inum, timestep in enumerate(timesteps) :\n",
    "        # Populate\n",
    "        position_evolution[inum,:] = particle_position\n",
    "        velocity_evolution[inum,:] = particle_velocity\n",
    "        \n",
    "        # Calculate velocity and acceleration due to e- and b-fields to update particle_position and particle_velocity\n",
    "        position_rate_of_change, velocity_rate_of_change = \\\n",
    "            get_rates_of_change_function(particle_position, particle_velocity, electric_field_function,\n",
    "                                        magnetic_field_function, q, m, dt)\n",
    "        \n",
    "        # Update\n",
    "        particle_position = get_updated_value(particle_position, position_rate_of_change, dt)\n",
    "        particle_velocity = get_updated_value(particle_velocity, velocity_rate_of_change, dt)\n",
    "        \n",
    "    return position_evolution, velocity_evolution"
   ]
  },
  {
   "cell_type": "markdown",
   "metadata": {},
   "source": [
    "**Check the output** of your `calc_trajectory_in_fields` for an electron in the constant electric field and constant magnetic field functions from before, the timesteps you've defined, and your get_updated_value_euler function as the function to update your position and velocity. "
   ]
  },
  {
   "cell_type": "code",
   "execution_count": null,
   "metadata": {},
   "outputs": [],
   "source": [
    "# Check output here\n",
    "trajectory_evolution, velocity_evolution = calc_trajectory_in_fields(constant_electric_x_field, constant_magnetic_x_field,\n",
    "                         get_rates_of_change_euler, timesteps, initial_position, initial_velocity)\n",
    "\n",
    "# There is a vx, vy, vz value for every timestep here:\n",
    "velocity_evolution.shape"
   ]
  },
  {
   "cell_type": "markdown",
   "metadata": {},
   "source": [
    "**Plot your output** in the cell below.  "
   ]
  },
  {
   "cell_type": "code",
   "execution_count": null,
   "metadata": {},
   "outputs": [],
   "source": [
    "# How do I access just the z trajectory?\n",
    "plt.plot(timesteps, trajectory_evolution[:,2])"
   ]
  },
  {
   "cell_type": "markdown",
   "metadata": {},
   "source": [
    "**This is where your \"pre-flight\" ends.**  Note, your pre-flight completion is simply a check that you made a solid effort to start the assignment, but not everything needs to be debugged.  You will receive 10 out of the 40 points for making a *solid effort* to get some code working (or skeleton code that makes sense).   We will spend the first 10 minutes of the next in-class lab making sure folks have the above \"fill in code\" pieces working.  \n",
    "\n",
    "**-------------------------------------------------------------------------------------------------------------------------------------------------------------------------------------------------------**\n",
    "\n",
    "## Below is the official \"assignment\", but you will need to get the above working before you can run and continue in-flight.\n",
    "\n",
    "**Class time on Friday 2/28**: \n",
    "- 10-15 minutes: Go through the pre-flight\n",
    "- 5 minutes: Write `constant_magnetic_y_field` for part 2\n",
    "- 5 minutes: `Execute calc_trajectory_in_fields` with appropriate arguments for part 2\n",
    "- 10 minutes:  Discuss the Runge-Kutta method.\n",
    "- 15 minutes:  Continue working in class with peers and instructors as help"
   ]
  },
  {
   "cell_type": "markdown",
   "metadata": {},
   "source": [
    "## Example 1: Particle in a parallel E and B field\n",
    "\n",
    "The pre-flight set-up simulates the trajectory of an electron in an electric and magnetic field that happen to be parallel.  Note, that the initial velocity (in the y-direction) is perpendicular to the fields.  You will need to generate additional plots to answer the discussion questions below.  "
   ]
  },
  {
   "cell_type": "markdown",
   "metadata": {},
   "source": [
    "## Part 1 (8/40 points)  discussion questions with supporting plots:\n",
    "\n",
    "### Fill out your descriptions in this markdown cell, and your code with plots in cells below.\n",
    "\n",
    "#### (1) Describe the trajectory of the electron you saw from the pre-flight and explain the behavior (e.g. if you see circular and/or translational motion, why?).\n",
    "\n",
    "The electron follows a helical trajectory or a spiral path. This is because the electron experiences translational motion in the x-direction and circular motion in the y-z plane. The electric field affects the x position of the electron, and causes an acceleration along this direction. The magnetic field, on the other hand, is responsible for the circular motion in the y-z plane. Since the electron has an initial y-velocity, and the magnetic field is alligned in the x direction, it undergoes acceleration forming a circular path in the y-z plane. \n",
    "\n",
    "#### (2) Plot the kinetic energy of the particle as a function of time.  Note, you can calculate this from the returned output velocity_evolution. Describe and explain the behavior of the kinetic energy as a function of time.\n",
    "\n",
    "The Kinetic Energy increases with time. Because the electric force is in the same direction as the x-component of the particle's velocity, there is an increase in the magnitude of the velocity of the particle. This is seen as the increase in kinetic energy. This increase is only a result of the electric field. The magnetic force due to the field does no work on the particle. \n",
    "\n",
    "#### (3) Create a new function, `constant_doubled_electric_x_field` with electric field being $\\vec{E}=[2,0,0]$, and use this to overplot the trajectory with the first trajectory.  Describe what happens when you double the strength of the E-field.\n",
    "\n",
    "This trajectory is shown by the red plot. As we expected, from question 1, the electric field increases the x-velocity of the particle. When comparing this plot to the plot of the original case, we see that in the case of the doubled electric field, the particle covers a greater distance along the x-axis. This is because, due to a greater field, the particle experiences a greater force of acceleration in this direction, and hence reaches higher velocities and travels a greater distance. The radius of the path in the yz plane however, is the same as in the original case. This is because, the velocity of the particle in the y and z directions remains the same and the magnetic field is also unchanged. However, the distance between two consecutive circles in the path has increased as a result of increased acceleration of the particle. \n",
    "\n",
    "#### (4) Create a new function, `constant_doubled_magnetic_x_field` with magnetic field being $\\vec{B}=[2,0,0]$, and use this to overplot on the previous trajectories.  Describe what happens when you double the strength of the B-field.\n",
    "\n",
    "This trajectory is shown by the green plot. As we expected, the radius of the circular path in the yz plane is smaller. This is on account of a greater magnetic force acting on the particle due to the doubled magnitude of the field. We also notice, that the green and blue (original) plots cover the same distance. This is because the electric force on the particle is the same in both cases and so is the resulting acceleration. \n"
   ]
  },
  {
   "cell_type": "code",
   "execution_count": null,
   "metadata": {},
   "outputs": [],
   "source": [
    "#  Plot kinetic energy here\n",
    "kinetic_energy = np.array([])\n",
    "for i in range (0, 10000):\n",
    "    mag_velocity = np.linalg.norm(velocity_evolution[i])\n",
    "    k_e = 0.5 * 1 * (mag_velocity**2)\n",
    "    kinetic_energy = np.append(kinetic_energy, k_e)\n",
    "    \n",
    "plt.plot(timesteps, kinetic_energy)\n",
    "plt.title('Kinetic Energy vs Time')\n",
    "plt.xlabel('Time (s)')\n",
    "plt.ylabel('Kinetic Energy (J)')    "
   ]
  },
  {
   "cell_type": "code",
   "execution_count": null,
   "metadata": {},
   "outputs": [],
   "source": [
    "def constant_doubled_electric_x_field(particle_position) :\n",
    "    # Your code including docstrings here\n",
    "    ''' This function creates an electric field with $\\vec{E} = [2, 0, 0]$'''\n",
    "    return np.array([2, 0, 0])"
   ]
  },
  {
   "cell_type": "code",
   "execution_count": null,
   "metadata": {},
   "outputs": [],
   "source": [
    "def constant_doubled_magnetic_x_field(particle_position) :\n",
    "    # Your code including docstrings here\n",
    "    '''This function creates a magnetic field with $\\vec{B} = [2, 0, 0]$'''\n",
    "    return np.array([2, 0, 0])"
   ]
  },
  {
   "cell_type": "code",
   "execution_count": null,
   "metadata": {},
   "outputs": [],
   "source": [
    "# Plot the trajectories (hint: need a 3-d plot -- refer to the hw7_python_practice if you need a reminder)\n",
    "#  You should overplot the original trajectory, the trajectory with a doubled electric field only,\n",
    "#   and the trajectory with a doubled magnetic field only to isolate the effects.\n",
    "#    Additional hint:  You'll need to execute the function `calc_trajectory_in_fields` three separate times for \n",
    "#      the different E and B field set ups that you are comparing.\n",
    "\n",
    "trajectory_evolution_2, velocity_evolution_2 = calc_trajectory_in_fields(constant_doubled_electric_x_field, \n",
    "                                                                         constant_magnetic_x_field, \n",
    "                                                                         get_rates_of_change_euler, timesteps, \n",
    "                                                                         initial_position, initial_velocity) \n",
    "trajectory_evolution_3, velocity_evolution_3 = calc_trajectory_in_fields(constant_electric_x_field, \n",
    "                                                                        constant_doubled_magnetic_x_field, \n",
    "                                                                        get_rates_of_change_euler, timesteps, \n",
    "                                                                        initial_position, initial_velocity)\n",
    "\n",
    "fig = plt.figure()\n",
    "ax = plt.gca(projection = '3d')\n",
    "ax.plot(trajectory_evolution[:,0], trajectory_evolution[:,1], trajectory_evolution[:,2], color = 'b')\n",
    "ax.plot(trajectory_evolution_2[:,0], trajectory_evolution_2[:,1], trajectory_evolution_2[:,2], color = 'r')\n",
    "ax.plot(trajectory_evolution_3[:,0], trajectory_evolution_3[:,1], trajectory_evolution_3[:,2], color = 'g')\n",
    "\n",
    "ax.set_xlabel('X position (m)')\n",
    "ax.set_ylabel('Y position (m)')\n",
    "ax.set_zlabel('Z position (m)')\n",
    "fig.suptitle('Trajectories for the 3 cases')"
   ]
  },
  {
   "cell_type": "markdown",
   "metadata": {
    "collapsed": true
   },
   "source": [
    "## Part 2 (8/40 points)  discussion questions:\n",
    "\n",
    "### Fill out your descriptions in this markdown cell, and your code with plots in cells below.\n",
    "\n",
    "#### (1) Explain why the trajectory looks the way it does.\n",
    "\n",
    "In all three cases there is a net movement along the z - axis, while there is oscilations along the x - axis. From the initial position, the particle gets accelerated by the electric field (which is along the x axis), and gains a positive x - velocity. Due to this, the magnetic field (which is along the y - axis) exerts a force on the particle in the positive z direction. Once the particle gains a high enough velocity along the z - axis (due to the magnetic field), the effect of the field changes and the particle begins accelerating in the negative x direction. This acceleration opposes that due to the electric field. This continues until, the effect of the electric force overcomes that of the magnetic force and the cycle continues. There is no displacement along the y-axis. This is because, initially the particle has a zero y - velocity. Also, the magnetic field acts along the y direction and hence can have no effect on the displacement of the particle in this direction. The electric field also, acts along the positive x direction and hence does not affect the y velocity of the particle. \n",
    "\n",
    "#### (2) Explain why the kinetic energy look the way it does.\n",
    "\n",
    "The kinetic energy also follows a sinusoidal pattern. This is because, as the particle moves along the positive x axis, its speed first increases to a maximum then decreases due to the opposing magnetic force. The particle then moves along the negative x direction and its speed again increases due to the magnetic force and then decreases. This continues as a cycle. \n",
    "\n",
    "\n",
    "#### (3) Describe what happens when you double the strength of the E-field.\n",
    "\n",
    "There are two main effects to this. One is a greater displacement along the positive x axis. This is because, the magnetic field takes a greater amount of time to oppose the effect of the doubled electric field, which causes greater acceleration in the positive x direction. This is because the particle needs to acquire a greater speed before the magnetic field can oppose the effects of the electric field. Second, the kinetic energy reaches a greater maximum. This is because on account of the increased E field, the particle undergoes greater acceleration and reaches a greater maximum velocity.  \n",
    "\n",
    "\n",
    "#### (4) Describe what happens when you double the strength of the B-field.  You'll need a new function for this as well.\n",
    "\n",
    "We expect to see an effect opposite to that when doubling the electric field. The displacement along the x axis is lesser. This because, the greater magnetic field opposes the effect of the electric field faster, and does not allow as much of a displacement to occur in the postive x direction. Additionally, since the magnetic field strength is now doubled, the field can counteract the effect of electric field at a lesser speed of the particle. Also once the particle begins accelerating in the negative x direction, the magnetic force changes at a much higher rate than in the original case allowing the effect of the electric field to dominate. As a result, the particle accelerates along each direction in half the time as it did in the other two cases (as is evident from the graph). Therefore, the particle does not reach speeds as high as in the first two cases and hence has a low kinetic energy. "
   ]
  },
  {
   "cell_type": "code",
   "execution_count": null,
   "metadata": {},
   "outputs": [],
   "source": [
    "def constant_magnetic_y_field(particle_position) :\n",
    "    # Your code here\n",
    "    ''' This function creates a magnetic field as $\\vec{B} = [0, 1, 0]$'''\n",
    "    return np.array([0, 1, 0])"
   ]
  },
  {
   "cell_type": "code",
   "execution_count": null,
   "metadata": {},
   "outputs": [],
   "source": [
    "def constant_doubled_magnetic_y_field(particle_position) :\n",
    "    # Your code here\n",
    "    ''' This function creates a magnetic field as $\\vec{B} = [0, 2, 0]'''\n",
    "    return np.array([0, 2, 0])"
   ]
  },
  {
   "cell_type": "code",
   "execution_count": null,
   "metadata": {},
   "outputs": [],
   "source": [
    "# Define your initial conditions (i.e. particle_position and particle_velocity here)\n",
    "initial_position = np.array([0, 0, 0])\n",
    "initial_velocity = np.array([0, 0, 0])\n",
    "\n",
    "#keeping the same timesteps "
   ]
  },
  {
   "cell_type": "code",
   "execution_count": null,
   "metadata": {},
   "outputs": [],
   "source": [
    "# Calculate your trajectories here (e.g. with `calc_trajectory_in_fields`)\n",
    "trajectory_evolution_4, velocity_evolution_4 = calc_trajectory_in_fields(constant_electric_x_field, \n",
    "                                                                        constant_magnetic_y_field, \n",
    "                                                                        get_rates_of_change_euler, timesteps, \n",
    "                                                                        initial_position, initial_velocity)\n",
    "\n",
    "\n",
    "trajectory_evolution_5, velocity_evolution_5 = calc_trajectory_in_fields(constant_doubled_electric_x_field, \n",
    "                                                                        constant_magnetic_y_field, \n",
    "                                                                        get_rates_of_change_euler, timesteps, \n",
    "                                                                        initial_position, initial_velocity)\n",
    "\n",
    "trajectory_evolution_6, velocity_evolution_6 = calc_trajectory_in_fields(constant_electric_x_field, \n",
    "                                                                        constant_doubled_magnetic_y_field, \n",
    "                                                                        get_rates_of_change_euler, timesteps, \n",
    "                                                                        initial_position, initial_velocity)"
   ]
  },
  {
   "cell_type": "code",
   "execution_count": null,
   "metadata": {},
   "outputs": [],
   "source": [
    "# Plot your trajectory here, overplotting the three in a 3-d plot\n",
    "fig = plt.figure()\n",
    "ax = plt.gca(projection = '3d')\n",
    "ax.view_init(35, 45)\n",
    "ax.plot(trajectory_evolution_4[:,0], trajectory_evolution_4[:,1], trajectory_evolution_4[:,2], color = 'b', \n",
    "        label = 'Original Case')\n",
    "ax.plot(trajectory_evolution_5[:,0], trajectory_evolution_5[:,1], trajectory_evolution_5[:,2], color = 'r', \n",
    "       label = 'Double E field')\n",
    "ax.plot(trajectory_evolution_6[:,0], trajectory_evolution_6[:,1], trajectory_evolution_6[:,2], color = 'g',\n",
    "       label = 'Double B field')\n",
    "\n",
    "ax.set_xlabel('X position (m)')\n",
    "ax.set_ylabel('Y position (m)')\n",
    "ax.set_zlabel('Z position (m)')\n",
    "fig.suptitle('Trajectories for the 3 cases')\n",
    "ax.legend()"
   ]
  },
  {
   "cell_type": "code",
   "execution_count": null,
   "metadata": {},
   "outputs": [],
   "source": [
    "# Calculating Kinetic Energy\n",
    "kinetic_energy_4 = np.array([])\n",
    "for i in range (0, 10000):\n",
    "    mag_velocity = np.linalg.norm(velocity_evolution_4[i])\n",
    "    k_e = 0.5 * 1 * (mag_velocity**2)\n",
    "    kinetic_energy_4 = np.append(kinetic_energy_4, k_e)\n",
    "\n",
    "kinetic_energy_5 = np.array([])\n",
    "for i in range (0, 10000):\n",
    "    mag_velocity = np.linalg.norm(velocity_evolution_5[i])\n",
    "    k_e = 0.5 * 1 * (mag_velocity**2)\n",
    "    kinetic_energy_5 = np.append(kinetic_energy_5, k_e)\n",
    "    \n",
    "kinetic_energy_6 = np.array([])\n",
    "for i in range (0, 10000):\n",
    "    mag_velocity = np.linalg.norm(velocity_evolution_6[i])\n",
    "    k_e = 0.5 * 1 * (mag_velocity**2)\n",
    "    kinetic_energy_6 = np.append(kinetic_energy_6, k_e)\n",
    "\n"
   ]
  },
  {
   "cell_type": "code",
   "execution_count": null,
   "metadata": {},
   "outputs": [],
   "source": [
    "#Plotting Kinteic Energy for all three cases\n",
    "\n",
    "plt.plot(timesteps, kinetic_energy_4, color = 'b', label = 'Original Case')\n",
    "plt.plot(timesteps, kinetic_energy_5, color = 'r', label = 'Double E field')\n",
    "plt.plot(timesteps, kinetic_energy_6, color = 'g', label = 'Double B field')\n",
    "\n",
    "plt.title('Kinetic Energy vs Time')\n",
    "plt.xlabel('Time (s)')\n",
    "plt.ylabel('Kinetic Energy (J)')\n",
    "plt.legend()"
   ]
  },
  {
   "cell_type": "markdown",
   "metadata": {},
   "source": [
    "## Part 3 (8/40 points): The velocity filter\n",
    "   \n",
    "\n",
    "Consider a particle with charge 1 C and mass 1 kg moving with velocity $v = (1~\\mathrm{m/s})~\\hat x$.  If this particle enters a region with a magnetic field $B = (1~\\mathrm{T})~\\hat y$, then clearly it will experience a force.   You can calculate it by hand quite easily.    You could then create an electric field to perfectly oppose this magnetic force.   If you set up this field configuration you would have a \"velocity filter.\" \n",
    "\n",
    "#### (1) Calculate, by hand, the magnitude of the E field you need to oppose the B field described above, and create the appropriate function:\n",
    "`velocity_filtering_electric_field`. \n",
    "\n",
    "\n",
    "#### (2) Calculate the trajectory using your function `calc_trajectory_in_fields`.  Show that your calculation from (1) was correct.\n",
    "\n",
    "#### (3) Overplot the trajectory of particles with a velocity twice as fast and half as fast as what you found above.  Discuss why the trajectories look as they do.\n",
    "\n"
   ]
  },
  {
   "cell_type": "markdown",
   "metadata": {},
   "source": [
    "(1) Write your equations here.\n",
    "\n"
   ]
  },
  {
   "cell_type": "code",
   "execution_count": null,
   "metadata": {},
   "outputs": [],
   "source": [
    "def velocity_filtering_electric_field(particle_position) :\n",
    "    ''' Note, you still do not need to use particle_position here.'''\n",
    "    # Your code here\n",
    "    ''' This creates an electric field as $\\vec{E} = [0, 0, -1] '''\n",
    "    return np.array([0, 0, -1])"
   ]
  },
  {
   "cell_type": "code",
   "execution_count": null,
   "metadata": {},
   "outputs": [],
   "source": [
    "# Plot your trajectory here\n",
    "initial_position = np.array([0, 0, 0])\n",
    "initial_velocity = np.array([1, 0, 0])\n",
    "\n",
    "trajectory_velocity_filter, velocity_velocity_filter = calc_trajectory_in_fields(velocity_filtering_electric_field, \n",
    "                                                                                constant_magnetic_y_field, \n",
    "                                                                                get_rates_of_change_euler, \n",
    "                                                                                timesteps, \n",
    "                                                                                initial_position, initial_velocity, \n",
    "                                                                                q = 1, m = 1)"
   ]
  },
  {
   "cell_type": "code",
   "execution_count": null,
   "metadata": {},
   "outputs": [],
   "source": [
    "fig = plt.figure()\n",
    "ax = plt.gca(projection = '3d')\n",
    "ax.view_init(45, 45)\n",
    "ax.plot(trajectory_velocity_filter[:,0], trajectory_velocity_filter[:,1], trajectory_velocity_filter[:,2], \n",
    "        color  = 'b')\n",
    "ax.set_xlabel('X position')\n",
    "ax.set_ylabel('Y position')\n",
    "ax.set_zlabel('Z position')\n",
    "fig.suptitle('Trajectory of particle')"
   ]
  },
  {
   "cell_type": "markdown",
   "metadata": {},
   "source": [
    "*Discuss* why the above plot shows that your calculation was correct."
   ]
  },
  {
   "cell_type": "code",
   "execution_count": null,
   "metadata": {},
   "outputs": [],
   "source": [
    "# Define the other two initial particle velocities here (twice as fast and half as fast)\n",
    "initial_position_1 = np.array([0, 0, 0])\n",
    "initial_velocity_1 = np.array([2, 0, 0])\n",
    "\n",
    "initial_position_2 = np.array([0, 0, 0])\n",
    "initial_velocity_2 = np.array([0.5, 0, 0])"
   ]
  },
  {
   "cell_type": "code",
   "execution_count": null,
   "metadata": {},
   "outputs": [],
   "source": [
    "#Calculating trajectories of other two cases\n",
    "trajectory_velocity_filter_1, velocity_velocity_filter_1 = calc_trajectory_in_fields(velocity_filtering_electric_field, \n",
    "                                                                                constant_magnetic_y_field, \n",
    "                                                                                get_rates_of_change_euler, \n",
    "                                                                                timesteps, \n",
    "                                                                                initial_position_1, \n",
    "                                                                                     initial_velocity_1, \n",
    "                                                                                q = 1, m = 1)\n",
    "\n",
    "trajectory_velocity_filter_2, velocity_velocity_filter_2 = calc_trajectory_in_fields(velocity_filtering_electric_field, \n",
    "                                                                                constant_magnetic_y_field, \n",
    "                                                                                get_rates_of_change_euler, \n",
    "                                                                                timesteps, \n",
    "                                                                                initial_position_2, \n",
    "                                                                                     initial_velocity_2, \n",
    "                                                                                q = 1, m = 1)\n",
    "\n"
   ]
  },
  {
   "cell_type": "code",
   "execution_count": null,
   "metadata": {},
   "outputs": [],
   "source": [
    "# Plot all three trajectories here\n",
    "fig = plt.figure()\n",
    "ax = plt.gca(projection = '3d')\n",
    "ax.view_init(30,45)\n",
    "ax.plot(trajectory_velocity_filter[:,0], trajectory_velocity_filter[:,1], trajectory_velocity_filter[:,2], \n",
    "        color  = 'b', label = 'Original case')\n",
    "ax.plot(trajectory_velocity_filter_1[:,0], trajectory_velocity_filter_1[:,1], trajectory_velocity_filter_1[:,2], \n",
    "        color  = 'r', label = 'Double velocity')\n",
    "ax.plot(trajectory_velocity_filter_2[:,0], trajectory_velocity_filter_2[:,1], trajectory_velocity_filter_2[:,2], \n",
    "        color  = 'g', label = 'Half velocity')\n",
    "\n",
    "ax.set_xlabel('X position')\n",
    "ax.set_ylabel('Y position')\n",
    "ax.set_zlabel('Z position')\n",
    "fig.suptitle('Trajectories for the 3 cases')\n",
    "ax.legend()"
   ]
  },
  {
   "cell_type": "markdown",
   "metadata": {},
   "source": [
    "**Discussion** here.\n",
    "\n",
    "We can be sure that the calculation of the E field is right because the particle in the original case follows a straight path with constant velocity as is clear from the graphs. If the field was not calculated correctly, we would not observe a straight path. \n",
    "\n",
    "When the velocity is doubled, the magnetic force on the particle is also doubled as the force due to a megnetic field depends on the velocity of the particle. As a result the particle experience a net acceleration in the positive z direction. However, the magnetic force begins to decrease as a result of decreasing velocity and we see the oscillatory motion that we observed before. \n",
    "\n",
    "For half the velocity, since the magnetic force is half the magnitude of the electric force, the particle accelerates in the negative z direction (the direction of the electric field). Once the magnetic force increases as a result of increasing velocity, the direction of acceleration switches to the positive z direction and the oscillatory motion continues as before. "
   ]
  },
  {
   "cell_type": "markdown",
   "metadata": {},
   "source": [
    "## Part 4 (8/40 points): Motion in non-uniform magnetic field\n",
    "For this problem the magnetic field will not be uniform, instead it is going to be changing as a function of position.  The magnetic field in cylindrical coordinates is:\n",
    "\\begin{equation}\n",
    " B(r,\\phi,z) = - \\frac {B_0} {2} r \\hat{r} + (B_0z+B_1)\\hat{z}\n",
    "\\end{equation}\n",
    "\n",
    "That is the the magnitude of the field is changing in $z$ and $r$, but is not changing in $\\phi$.  You should make $B_1$ about 10 times as big as $B_1$, that is if $B_1$ is 1 T then $B_1$ should be 0.1 T/m, as in the example during the pre-flight.\n",
    "\n",
    "Take the electric field to be zero.\n",
    "\n",
    "In case you are curious... yes, this is a field that obeys Maxwell's equations. Such a field could not really fill all space... it blows up as $r\\rightarrow\\infty$. However, this field could exist inside a long, cylindrical coil of wire (a solenoid) where the number of turns per meter is increasing linearly. Such fields are sometimes used at particle accelerators to guide beams of charged particles.\n",
    "\n",
    "### 1) Rewrite the B-field in cartesian coordinates.\n",
    "**Write your cartesian equation here**\n",
    "\n",
    "x = -$\\frac{B_{0}}{2}$r $\\times$ cos($\\phi$)\n",
    "\n",
    "y = -$\\frac{B_{0}}{2}$r $\\times$ sin($\\phi$)\n",
    "\n",
    "z = $B_{0}$z + $B_{1}$\n",
    "\n",
    "### 2) Calculate the trajectory for a particle moving in this field.  You will need to now write a function \n",
    "`solenoid_magnetic_field` \n",
    "### where the returned magnetic field *does* depend on the particle_position that was input as an argument.  \n",
    "\n",
    "### 3) Explore the effects of changing the integration method with the Runge-Kutta method discussed in class. Mainly, compare how the kinetic energy changes with time when using Euler's method to calculate the position and velocity evolution, and how the kinetic energy changes with the Runge-Kutta method.\n"
   ]
  },
  {
   "cell_type": "code",
   "execution_count": null,
   "metadata": {},
   "outputs": [],
   "source": [
    "# Your new function here\n",
    "def solenoid_magnetic_field(particle_position) :\n",
    "    ''' The magnetic field will be set in cartesian coordinates '''\n",
    "    #  Code here\n",
    "    B0 = 0.1 \n",
    "    B1 = 1\n",
    "    \n",
    "    r = np.sqrt((particle_position[0]**2)+(particle_position[1]**2))\n",
    "    \n",
    "    phi = 0\n",
    "    \n",
    "    x = particle_position[0]\n",
    "    y = particle_position[1]\n",
    "    z = particle_position[2]\n",
    "    \n",
    "    x1 = -(B0/2)*r*(x/r)\n",
    "    y1 = -(B0/2)*r*(y/r)\n",
    "    z1 = (B0*z) + B1\n",
    "    \n",
    "    B = np.array([x1, y1, z1])\n",
    "    return B\n",
    "\n",
    "def no_electric_field(particle_position):\n",
    "    ''' This creates an electric field as $\\vec{E} = [0, 0, 0]$'''\n",
    "    return np.array ([0, 0, 0])"
   ]
  },
  {
   "cell_type": "code",
   "execution_count": null,
   "metadata": {},
   "outputs": [],
   "source": [
    "initial_position = np.array([1, 0, 0])\n",
    "initial_velocity = np.array([0, 0, 1])\n",
    "\n",
    "dt = 50/10000\n",
    "timesteps = np.arange(0, 50, dt)"
   ]
  },
  {
   "cell_type": "code",
   "execution_count": null,
   "metadata": {},
   "outputs": [],
   "source": [
    "# calculating trajectory of particle\n",
    "trajectory_changing_b_field, velocity_changing_b_field = calc_trajectory_in_fields(no_electric_field, \n",
    "                                                                                  solenoid_magnetic_field, \n",
    "                                                                                  get_rates_of_change_euler, \n",
    "                                                                                  timesteps, initial_position, \n",
    "                                                                                  initial_velocity)\n"
   ]
  },
  {
   "cell_type": "code",
   "execution_count": null,
   "metadata": {},
   "outputs": [],
   "source": [
    "#  Plot trajectory of your particle here using the Euler method\n",
    "fig = plt.figure()\n",
    "ax = plt.gca(projection = '3d')\n",
    "ax.view_init(30,45)\n",
    "ax.plot(trajectory_changing_b_field[:,0], trajectory_changing_b_field[:,1], trajectory_changing_b_field[:,2])\n",
    "\n",
    "ax.set_xlabel('X position')\n",
    "ax.set_ylabel('Y position')\n",
    "ax.set_zlabel('Z position')\n",
    "fig.suptitle('Trajectory of particle')"
   ]
  },
  {
   "cell_type": "code",
   "execution_count": null,
   "metadata": {},
   "outputs": [],
   "source": [
    "kinetic_energy_euler= np.array([])\n",
    "for i in range (0, 10000):\n",
    "    mag_velocity = np.linalg.norm(velocity_changing_b_field[i])\n",
    "    k_e = 0.5*1*(mag_velocity**2) \n",
    "    kinetic_energy_euler = np.append(kinetic_energy_euler, k_e) "
   ]
  },
  {
   "cell_type": "code",
   "execution_count": null,
   "metadata": {},
   "outputs": [],
   "source": [
    "#  Plot the kinetic energy of your particle here using the velocities updated with the Euler method.\n",
    "\n",
    "plt.plot(timesteps[:10000], kinetic_energy_euler)\n",
    "plt.title('Kinetic Energy vs Time')\n",
    "plt.xlabel('Time (s)')\n",
    "plt.ylabel('Kinetic Energy (J)')\n"
   ]
  },
  {
   "cell_type": "markdown",
   "metadata": {},
   "source": [
    "## Runge-Kutta method:  Discuss in class\n",
    "Below is a function that does the next-best-thing to the Euler method.  This is the Runge-Kutta method, that essentially uses values in between sampled points to get a better updated value.  You may remember approximating integrals (area under a curve) with right and left sum, then using the mid-point, then finally using the trapezoid method.  That is essentially what we are doing here: https://www.khanacademy.org/math/ap-calculus-ab/ab-integration-new/ab-6-2/a/riemann-sums-review\n",
    "\n",
    "The Runge-Kutta method does the following:\n",
    "\n",
    "- Use the acceleration due to the fields at the current position to figure out a $\\vec{v}_{i+1/2}=\\vec{v}_{i}+\\Delta\\vec{v}_{i+1/2}$, or the change in velocity over half a time-step (e.g. between timestep $i$ and timestep $i+1$).\n",
    "\n",
    "- Use the updated velocity (over the half a time-step) to find the new particle position in half a time-step, $\\vec{x}_{i+1/2}\\vec{x}_i+\\Delta\\vec{x}_{i+1/2}$.  \n",
    "\n",
    "- Use the electric and magnetic fields at $\\vec{x}_{i+1/2}$ for a particle with velocity $\\vec{v}_{i+1/2}$ to calculate the half time-step acceleration, $\\vec{a}_{i+1/2}$ that will be used to actually update the velocity for $\\vec{v}_{i+1}$.  We also use the half time-step velocity $\\vec{v}_{i+1/2}$ to update the position for $\\vec{x}_{i+1}$."
   ]
  },
  {
   "cell_type": "code",
   "execution_count": null,
   "metadata": {},
   "outputs": [],
   "source": [
    "def get_rates_of_change_runge_kutta(particle_position, particle_velocity, electric_field_function,\n",
    "                                        magnetic_field_function, q, m, dt) :\n",
    "    ''' This uses the Runge-Kutta method to calculate the updated value.  This method relies on mid-points.\n",
    "    Note, this method can replace get_rates_of_change_euler in the argument, get_rates_of_change_function, that\n",
    "    is input to calc_trajectory_in_fields'''\n",
    "\n",
    "    current_velocity, current_acceleration = get_rates_of_change_euler(particle_position, particle_velocity, electric_field_function,\n",
    "                                        magnetic_field_function, q, m, dt)\n",
    "    \n",
    "    mid_particle_velocity = current_velocity + current_acceleration * dt/2\n",
    "    mid_particle_position = particle_position + mid_particle_velocity * dt/2\n",
    "    \n",
    "    # Calculate the acceleration due to the electric and magnetic fields at the mid_particle_position\n",
    "    runge_kutta_velocity, runge_kutta_acceleration = get_rates_of_change_euler(mid_particle_position, mid_particle_velocity,\n",
    "                                                                        electric_field_function,\n",
    "                                                                        magnetic_field_function, q, m, dt)\n",
    "    return runge_kutta_velocity, runge_kutta_acceleration"
   ]
  },
  {
   "cell_type": "code",
   "execution_count": null,
   "metadata": {},
   "outputs": [],
   "source": [
    "#  Plot trajectory of your particle here using the Runge-Kutta method\n",
    "intial_position = np.array([1, 0, 0])\n",
    "initial_velocity = np.array([0, 0, 1])\n",
    "\n",
    "trajectory_changing_b_field_2, velocity_changing_b_field_2 = calc_trajectory_in_fields(no_electric_field,\n",
    "                                                                                  solenoid_magnetic_field, \n",
    "                                                                                  get_rates_of_change_runge_kutta, \n",
    "                                                                                  timesteps, initial_position, \n",
    "                                                                                  initial_velocity)"
   ]
  },
  {
   "cell_type": "code",
   "execution_count": null,
   "metadata": {},
   "outputs": [],
   "source": [
    "fig = plt.figure()\n",
    "ax = plt.gca(projection = '3d')\n",
    "ax.view_init(30,45)\n",
    "ax.plot(trajectory_changing_b_field_2[:,0], trajectory_changing_b_field_2[:,1], trajectory_changing_b_field[:,2])\n",
    "\n",
    "ax.set_xlabel('X position')\n",
    "ax.set_ylabel('Y position')\n",
    "ax.set_zlabel('Z position')\n",
    "fig.suptitle('Trajectory of particle')\n"
   ]
  },
  {
   "cell_type": "code",
   "execution_count": null,
   "metadata": {},
   "outputs": [],
   "source": [
    "kinetic_energy_rk= np.array([])\n",
    "for i in range (0, 10000):\n",
    "    mag_velocity = np.linalg.norm(velocity_changing_b_field_2[i])\n",
    "    k_e = 0.5*1*(mag_velocity**2) \n",
    "    kinetic_energy_rk = np.append(kinetic_energy_rk, k_e) "
   ]
  },
  {
   "cell_type": "code",
   "execution_count": null,
   "metadata": {},
   "outputs": [],
   "source": [
    "#  Plot the kinetic energy of the particle using the velocities updated using the Runge-Kutta method.\n",
    "plt.plot(timesteps[:10000], kinetic_energy_euler, color = 'b', label = 'Euler method')\n",
    "plt.plot(timesteps[:10000], kinetic_energy_rk, color = 'r', label = 'Runge-Kutta method')\n",
    "plt.title('Kinetic Energy vs Time')\n",
    "plt.xlabel('Time(s)')\n",
    "plt.ylabel('Kinetic Energy (J)')\n",
    "plt.legend()"
   ]
  },
  {
   "cell_type": "code",
   "execution_count": null,
   "metadata": {},
   "outputs": [],
   "source": []
  }
 ],
 "metadata": {
  "kernelspec": {
   "display_name": "Python 3",
   "language": "python",
   "name": "python3"
  },
  "language_info": {
   "codemirror_mode": {
    "name": "ipython",
    "version": 3
   },
   "file_extension": ".py",
   "mimetype": "text/x-python",
   "name": "python",
   "nbconvert_exporter": "python",
   "pygments_lexer": "ipython3",
   "version": "3.7.3"
  }
 },
 "nbformat": 4,
 "nbformat_minor": 1
}
